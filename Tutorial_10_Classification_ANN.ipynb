{
  "nbformat": 4,
  "nbformat_minor": 0,
  "metadata": {
    "colab": {
      "name": "Tutorial_10_Classification_ANN.ipynb",
      "provenance": [],
      "collapsed_sections": []
    },
    "kernelspec": {
      "name": "python3",
      "display_name": "Python 3"
    }
  },
  "cells": [
    {
      "cell_type": "code",
      "metadata": {
        "id": "kVO5JiEC8Pbs",
        "colab_type": "code",
        "colab": {
          "resources": {
            "http://localhost:8080/nbextensions/google.colab/files.js": {
              "data": "Ly8gQ29weXJpZ2h0IDIwMTcgR29vZ2xlIExMQwovLwovLyBMaWNlbnNlZCB1bmRlciB0aGUgQXBhY2hlIExpY2Vuc2UsIFZlcnNpb24gMi4wICh0aGUgIkxpY2Vuc2UiKTsKLy8geW91IG1heSBub3QgdXNlIHRoaXMgZmlsZSBleGNlcHQgaW4gY29tcGxpYW5jZSB3aXRoIHRoZSBMaWNlbnNlLgovLyBZb3UgbWF5IG9idGFpbiBhIGNvcHkgb2YgdGhlIExpY2Vuc2UgYXQKLy8KLy8gICAgICBodHRwOi8vd3d3LmFwYWNoZS5vcmcvbGljZW5zZXMvTElDRU5TRS0yLjAKLy8KLy8gVW5sZXNzIHJlcXVpcmVkIGJ5IGFwcGxpY2FibGUgbGF3IG9yIGFncmVlZCB0byBpbiB3cml0aW5nLCBzb2Z0d2FyZQovLyBkaXN0cmlidXRlZCB1bmRlciB0aGUgTGljZW5zZSBpcyBkaXN0cmlidXRlZCBvbiBhbiAiQVMgSVMiIEJBU0lTLAovLyBXSVRIT1VUIFdBUlJBTlRJRVMgT1IgQ09ORElUSU9OUyBPRiBBTlkgS0lORCwgZWl0aGVyIGV4cHJlc3Mgb3IgaW1wbGllZC4KLy8gU2VlIHRoZSBMaWNlbnNlIGZvciB0aGUgc3BlY2lmaWMgbGFuZ3VhZ2UgZ292ZXJuaW5nIHBlcm1pc3Npb25zIGFuZAovLyBsaW1pdGF0aW9ucyB1bmRlciB0aGUgTGljZW5zZS4KCi8qKgogKiBAZmlsZW92ZXJ2aWV3IEhlbHBlcnMgZm9yIGdvb2dsZS5jb2xhYiBQeXRob24gbW9kdWxlLgogKi8KKGZ1bmN0aW9uKHNjb3BlKSB7CmZ1bmN0aW9uIHNwYW4odGV4dCwgc3R5bGVBdHRyaWJ1dGVzID0ge30pIHsKICBjb25zdCBlbGVtZW50ID0gZG9jdW1lbnQuY3JlYXRlRWxlbWVudCgnc3BhbicpOwogIGVsZW1lbnQudGV4dENvbnRlbnQgPSB0ZXh0OwogIGZvciAoY29uc3Qga2V5IG9mIE9iamVjdC5rZXlzKHN0eWxlQXR0cmlidXRlcykpIHsKICAgIGVsZW1lbnQuc3R5bGVba2V5XSA9IHN0eWxlQXR0cmlidXRlc1trZXldOwogIH0KICByZXR1cm4gZWxlbWVudDsKfQoKLy8gTWF4IG51bWJlciBvZiBieXRlcyB3aGljaCB3aWxsIGJlIHVwbG9hZGVkIGF0IGEgdGltZS4KY29uc3QgTUFYX1BBWUxPQURfU0laRSA9IDEwMCAqIDEwMjQ7CgpmdW5jdGlvbiBfdXBsb2FkRmlsZXMoaW5wdXRJZCwgb3V0cHV0SWQpIHsKICBjb25zdCBzdGVwcyA9IHVwbG9hZEZpbGVzU3RlcChpbnB1dElkLCBvdXRwdXRJZCk7CiAgY29uc3Qgb3V0cHV0RWxlbWVudCA9IGRvY3VtZW50LmdldEVsZW1lbnRCeUlkKG91dHB1dElkKTsKICAvLyBDYWNoZSBzdGVwcyBvbiB0aGUgb3V0cHV0RWxlbWVudCB0byBtYWtlIGl0IGF2YWlsYWJsZSBmb3IgdGhlIG5leHQgY2FsbAogIC8vIHRvIHVwbG9hZEZpbGVzQ29udGludWUgZnJvbSBQeXRob24uCiAgb3V0cHV0RWxlbWVudC5zdGVwcyA9IHN0ZXBzOwoKICByZXR1cm4gX3VwbG9hZEZpbGVzQ29udGludWUob3V0cHV0SWQpOwp9CgovLyBUaGlzIGlzIHJvdWdobHkgYW4gYXN5bmMgZ2VuZXJhdG9yIChub3Qgc3VwcG9ydGVkIGluIHRoZSBicm93c2VyIHlldCksCi8vIHdoZXJlIHRoZXJlIGFyZSBtdWx0aXBsZSBhc3luY2hyb25vdXMgc3RlcHMgYW5kIHRoZSBQeXRob24gc2lkZSBpcyBnb2luZwovLyB0byBwb2xsIGZvciBjb21wbGV0aW9uIG9mIGVhY2ggc3RlcC4KLy8gVGhpcyB1c2VzIGEgUHJvbWlzZSB0byBibG9jayB0aGUgcHl0aG9uIHNpZGUgb24gY29tcGxldGlvbiBvZiBlYWNoIHN0ZXAsCi8vIHRoZW4gcGFzc2VzIHRoZSByZXN1bHQgb2YgdGhlIHByZXZpb3VzIHN0ZXAgYXMgdGhlIGlucHV0IHRvIHRoZSBuZXh0IHN0ZXAuCmZ1bmN0aW9uIF91cGxvYWRGaWxlc0NvbnRpbnVlKG91dHB1dElkKSB7CiAgY29uc3Qgb3V0cHV0RWxlbWVudCA9IGRvY3VtZW50LmdldEVsZW1lbnRCeUlkKG91dHB1dElkKTsKICBjb25zdCBzdGVwcyA9IG91dHB1dEVsZW1lbnQuc3RlcHM7CgogIGNvbnN0IG5leHQgPSBzdGVwcy5uZXh0KG91dHB1dEVsZW1lbnQubGFzdFByb21pc2VWYWx1ZSk7CiAgcmV0dXJuIFByb21pc2UucmVzb2x2ZShuZXh0LnZhbHVlLnByb21pc2UpLnRoZW4oKHZhbHVlKSA9PiB7CiAgICAvLyBDYWNoZSB0aGUgbGFzdCBwcm9taXNlIHZhbHVlIHRvIG1ha2UgaXQgYXZhaWxhYmxlIHRvIHRoZSBuZXh0CiAgICAvLyBzdGVwIG9mIHRoZSBnZW5lcmF0b3IuCiAgICBvdXRwdXRFbGVtZW50Lmxhc3RQcm9taXNlVmFsdWUgPSB2YWx1ZTsKICAgIHJldHVybiBuZXh0LnZhbHVlLnJlc3BvbnNlOwogIH0pOwp9CgovKioKICogR2VuZXJhdG9yIGZ1bmN0aW9uIHdoaWNoIGlzIGNhbGxlZCBiZXR3ZWVuIGVhY2ggYXN5bmMgc3RlcCBvZiB0aGUgdXBsb2FkCiAqIHByb2Nlc3MuCiAqIEBwYXJhbSB7c3RyaW5nfSBpbnB1dElkIEVsZW1lbnQgSUQgb2YgdGhlIGlucHV0IGZpbGUgcGlja2VyIGVsZW1lbnQuCiAqIEBwYXJhbSB7c3RyaW5nfSBvdXRwdXRJZCBFbGVtZW50IElEIG9mIHRoZSBvdXRwdXQgZGlzcGxheS4KICogQHJldHVybiB7IUl0ZXJhYmxlPCFPYmplY3Q+fSBJdGVyYWJsZSBvZiBuZXh0IHN0ZXBzLgogKi8KZnVuY3Rpb24qIHVwbG9hZEZpbGVzU3RlcChpbnB1dElkLCBvdXRwdXRJZCkgewogIGNvbnN0IGlucHV0RWxlbWVudCA9IGRvY3VtZW50LmdldEVsZW1lbnRCeUlkKGlucHV0SWQpOwogIGlucHV0RWxlbWVudC5kaXNhYmxlZCA9IGZhbHNlOwoKICBjb25zdCBvdXRwdXRFbGVtZW50ID0gZG9jdW1lbnQuZ2V0RWxlbWVudEJ5SWQob3V0cHV0SWQpOwogIG91dHB1dEVsZW1lbnQuaW5uZXJIVE1MID0gJyc7CgogIGNvbnN0IHBpY2tlZFByb21pc2UgPSBuZXcgUHJvbWlzZSgocmVzb2x2ZSkgPT4gewogICAgaW5wdXRFbGVtZW50LmFkZEV2ZW50TGlzdGVuZXIoJ2NoYW5nZScsIChlKSA9PiB7CiAgICAgIHJlc29sdmUoZS50YXJnZXQuZmlsZXMpOwogICAgfSk7CiAgfSk7CgogIGNvbnN0IGNhbmNlbCA9IGRvY3VtZW50LmNyZWF0ZUVsZW1lbnQoJ2J1dHRvbicpOwogIGlucHV0RWxlbWVudC5wYXJlbnRFbGVtZW50LmFwcGVuZENoaWxkKGNhbmNlbCk7CiAgY2FuY2VsLnRleHRDb250ZW50ID0gJ0NhbmNlbCB1cGxvYWQnOwogIGNvbnN0IGNhbmNlbFByb21pc2UgPSBuZXcgUHJvbWlzZSgocmVzb2x2ZSkgPT4gewogICAgY2FuY2VsLm9uY2xpY2sgPSAoKSA9PiB7CiAgICAgIHJlc29sdmUobnVsbCk7CiAgICB9OwogIH0pOwoKICAvLyBXYWl0IGZvciB0aGUgdXNlciB0byBwaWNrIHRoZSBmaWxlcy4KICBjb25zdCBmaWxlcyA9IHlpZWxkIHsKICAgIHByb21pc2U6IFByb21pc2UucmFjZShbcGlja2VkUHJvbWlzZSwgY2FuY2VsUHJvbWlzZV0pLAogICAgcmVzcG9uc2U6IHsKICAgICAgYWN0aW9uOiAnc3RhcnRpbmcnLAogICAgfQogIH07CgogIGNhbmNlbC5yZW1vdmUoKTsKCiAgLy8gRGlzYWJsZSB0aGUgaW5wdXQgZWxlbWVudCBzaW5jZSBmdXJ0aGVyIHBpY2tzIGFyZSBub3QgYWxsb3dlZC4KICBpbnB1dEVsZW1lbnQuZGlzYWJsZWQgPSB0cnVlOwoKICBpZiAoIWZpbGVzKSB7CiAgICByZXR1cm4gewogICAgICByZXNwb25zZTogewogICAgICAgIGFjdGlvbjogJ2NvbXBsZXRlJywKICAgICAgfQogICAgfTsKICB9CgogIGZvciAoY29uc3QgZmlsZSBvZiBmaWxlcykgewogICAgY29uc3QgbGkgPSBkb2N1bWVudC5jcmVhdGVFbGVtZW50KCdsaScpOwogICAgbGkuYXBwZW5kKHNwYW4oZmlsZS5uYW1lLCB7Zm9udFdlaWdodDogJ2JvbGQnfSkpOwogICAgbGkuYXBwZW5kKHNwYW4oCiAgICAgICAgYCgke2ZpbGUudHlwZSB8fCAnbi9hJ30pIC0gJHtmaWxlLnNpemV9IGJ5dGVzLCBgICsKICAgICAgICBgbGFzdCBtb2RpZmllZDogJHsKICAgICAgICAgICAgZmlsZS5sYXN0TW9kaWZpZWREYXRlID8gZmlsZS5sYXN0TW9kaWZpZWREYXRlLnRvTG9jYWxlRGF0ZVN0cmluZygpIDoKICAgICAgICAgICAgICAgICAgICAgICAgICAgICAgICAgICAgJ24vYSd9IC0gYCkpOwogICAgY29uc3QgcGVyY2VudCA9IHNwYW4oJzAlIGRvbmUnKTsKICAgIGxpLmFwcGVuZENoaWxkKHBlcmNlbnQpOwoKICAgIG91dHB1dEVsZW1lbnQuYXBwZW5kQ2hpbGQobGkpOwoKICAgIGNvbnN0IGZpbGVEYXRhUHJvbWlzZSA9IG5ldyBQcm9taXNlKChyZXNvbHZlKSA9PiB7CiAgICAgIGNvbnN0IHJlYWRlciA9IG5ldyBGaWxlUmVhZGVyKCk7CiAgICAgIHJlYWRlci5vbmxvYWQgPSAoZSkgPT4gewogICAgICAgIHJlc29sdmUoZS50YXJnZXQucmVzdWx0KTsKICAgICAgfTsKICAgICAgcmVhZGVyLnJlYWRBc0FycmF5QnVmZmVyKGZpbGUpOwogICAgfSk7CiAgICAvLyBXYWl0IGZvciB0aGUgZGF0YSB0byBiZSByZWFkeS4KICAgIGxldCBmaWxlRGF0YSA9IHlpZWxkIHsKICAgICAgcHJvbWlzZTogZmlsZURhdGFQcm9taXNlLAogICAgICByZXNwb25zZTogewogICAgICAgIGFjdGlvbjogJ2NvbnRpbnVlJywKICAgICAgfQogICAgfTsKCiAgICAvLyBVc2UgYSBjaHVua2VkIHNlbmRpbmcgdG8gYXZvaWQgbWVzc2FnZSBzaXplIGxpbWl0cy4gU2VlIGIvNjIxMTU2NjAuCiAgICBsZXQgcG9zaXRpb24gPSAwOwogICAgd2hpbGUgKHBvc2l0aW9uIDwgZmlsZURhdGEuYnl0ZUxlbmd0aCkgewogICAgICBjb25zdCBsZW5ndGggPSBNYXRoLm1pbihmaWxlRGF0YS5ieXRlTGVuZ3RoIC0gcG9zaXRpb24sIE1BWF9QQVlMT0FEX1NJWkUpOwogICAgICBjb25zdCBjaHVuayA9IG5ldyBVaW50OEFycmF5KGZpbGVEYXRhLCBwb3NpdGlvbiwgbGVuZ3RoKTsKICAgICAgcG9zaXRpb24gKz0gbGVuZ3RoOwoKICAgICAgY29uc3QgYmFzZTY0ID0gYnRvYShTdHJpbmcuZnJvbUNoYXJDb2RlLmFwcGx5KG51bGwsIGNodW5rKSk7CiAgICAgIHlpZWxkIHsKICAgICAgICByZXNwb25zZTogewogICAgICAgICAgYWN0aW9uOiAnYXBwZW5kJywKICAgICAgICAgIGZpbGU6IGZpbGUubmFtZSwKICAgICAgICAgIGRhdGE6IGJhc2U2NCwKICAgICAgICB9LAogICAgICB9OwogICAgICBwZXJjZW50LnRleHRDb250ZW50ID0KICAgICAgICAgIGAke01hdGgucm91bmQoKHBvc2l0aW9uIC8gZmlsZURhdGEuYnl0ZUxlbmd0aCkgKiAxMDApfSUgZG9uZWA7CiAgICB9CiAgfQoKICAvLyBBbGwgZG9uZS4KICB5aWVsZCB7CiAgICByZXNwb25zZTogewogICAgICBhY3Rpb246ICdjb21wbGV0ZScsCiAgICB9CiAgfTsKfQoKc2NvcGUuZ29vZ2xlID0gc2NvcGUuZ29vZ2xlIHx8IHt9OwpzY29wZS5nb29nbGUuY29sYWIgPSBzY29wZS5nb29nbGUuY29sYWIgfHwge307CnNjb3BlLmdvb2dsZS5jb2xhYi5fZmlsZXMgPSB7CiAgX3VwbG9hZEZpbGVzLAogIF91cGxvYWRGaWxlc0NvbnRpbnVlLAp9Owp9KShzZWxmKTsK",
              "ok": true,
              "headers": [
                [
                  "content-type",
                  "application/javascript"
                ]
              ],
              "status": 200,
              "status_text": ""
            }
          },
          "base_uri": "https://localhost:8080/",
          "height": 90
        },
        "outputId": "7acc34d0-68d2-4505-ea31-6cb1c753f59b"
      },
      "source": [
        "from google.colab import files\n",
        "\n",
        "uploaded = files.upload()\n",
        "\n",
        "for fn in uploaded.keys():\n",
        "  print('User uploaded file \"{name}\" with length {length} bytes'.format(\n",
        "      name=fn, length=len(uploaded[fn])))"
      ],
      "execution_count": null,
      "outputs": [
        {
          "output_type": "display_data",
          "data": {
            "text/html": [
              "\n",
              "     <input type=\"file\" id=\"files-60da69ed-6e76-48cd-8397-18c73679cbe9\" name=\"files[]\" multiple disabled\n",
              "        style=\"border:none\" />\n",
              "     <output id=\"result-60da69ed-6e76-48cd-8397-18c73679cbe9\">\n",
              "      Upload widget is only available when the cell has been executed in the\n",
              "      current browser session. Please rerun this cell to enable.\n",
              "      </output>\n",
              "      <script src=\"/nbextensions/google.colab/files.js\"></script> "
            ],
            "text/plain": [
              "<IPython.core.display.HTML object>"
            ]
          },
          "metadata": {
            "tags": []
          }
        },
        {
          "output_type": "stream",
          "text": [
            "Saving data.csv to data.csv\n",
            "User uploaded file \"data.csv\" with length 125204 bytes\n"
          ],
          "name": "stdout"
        }
      ]
    },
    {
      "cell_type": "code",
      "metadata": {
        "id": "Yg9_rw0NBj9i",
        "colab_type": "code",
        "colab": {
          "base_uri": "https://localhost:8080/",
          "height": 232
        },
        "outputId": "d7866879-54a1-4e89-fa30-009994cf5929"
      },
      "source": [
        "import pandas as pd\n",
        "import io\n",
        "data = pd.read_csv(io.StringIO(uploaded['data.csv'].decode('utf-8')))\n",
        "data.head()"
      ],
      "execution_count": null,
      "outputs": [
        {
          "output_type": "execute_result",
          "data": {
            "text/html": [
              "<div>\n",
              "<style scoped>\n",
              "    .dataframe tbody tr th:only-of-type {\n",
              "        vertical-align: middle;\n",
              "    }\n",
              "\n",
              "    .dataframe tbody tr th {\n",
              "        vertical-align: top;\n",
              "    }\n",
              "\n",
              "    .dataframe thead th {\n",
              "        text-align: right;\n",
              "    }\n",
              "</style>\n",
              "<table border=\"1\" class=\"dataframe\">\n",
              "  <thead>\n",
              "    <tr style=\"text-align: right;\">\n",
              "      <th></th>\n",
              "      <th>id</th>\n",
              "      <th>diagnosis</th>\n",
              "      <th>radius_mean</th>\n",
              "      <th>texture_mean</th>\n",
              "      <th>perimeter_mean</th>\n",
              "      <th>area_mean</th>\n",
              "      <th>smoothness_mean</th>\n",
              "      <th>compactness_mean</th>\n",
              "      <th>concavity_mean</th>\n",
              "      <th>concave points_mean</th>\n",
              "      <th>symmetry_mean</th>\n",
              "      <th>fractal_dimension_mean</th>\n",
              "      <th>radius_se</th>\n",
              "      <th>texture_se</th>\n",
              "      <th>perimeter_se</th>\n",
              "      <th>area_se</th>\n",
              "      <th>smoothness_se</th>\n",
              "      <th>compactness_se</th>\n",
              "      <th>concavity_se</th>\n",
              "      <th>concave points_se</th>\n",
              "      <th>symmetry_se</th>\n",
              "      <th>fractal_dimension_se</th>\n",
              "      <th>radius_worst</th>\n",
              "      <th>texture_worst</th>\n",
              "      <th>perimeter_worst</th>\n",
              "      <th>area_worst</th>\n",
              "      <th>smoothness_worst</th>\n",
              "      <th>compactness_worst</th>\n",
              "      <th>concavity_worst</th>\n",
              "      <th>concave points_worst</th>\n",
              "      <th>symmetry_worst</th>\n",
              "      <th>fractal_dimension_worst</th>\n",
              "      <th>Unnamed: 32</th>\n",
              "    </tr>\n",
              "  </thead>\n",
              "  <tbody>\n",
              "    <tr>\n",
              "      <th>0</th>\n",
              "      <td>842302</td>\n",
              "      <td>M</td>\n",
              "      <td>17.99</td>\n",
              "      <td>10.38</td>\n",
              "      <td>122.80</td>\n",
              "      <td>1001.0</td>\n",
              "      <td>0.11840</td>\n",
              "      <td>0.27760</td>\n",
              "      <td>0.3001</td>\n",
              "      <td>0.14710</td>\n",
              "      <td>0.2419</td>\n",
              "      <td>0.07871</td>\n",
              "      <td>1.0950</td>\n",
              "      <td>0.9053</td>\n",
              "      <td>8.589</td>\n",
              "      <td>153.40</td>\n",
              "      <td>0.006399</td>\n",
              "      <td>0.04904</td>\n",
              "      <td>0.05373</td>\n",
              "      <td>0.01587</td>\n",
              "      <td>0.03003</td>\n",
              "      <td>0.006193</td>\n",
              "      <td>25.38</td>\n",
              "      <td>17.33</td>\n",
              "      <td>184.60</td>\n",
              "      <td>2019.0</td>\n",
              "      <td>0.1622</td>\n",
              "      <td>0.6656</td>\n",
              "      <td>0.7119</td>\n",
              "      <td>0.2654</td>\n",
              "      <td>0.4601</td>\n",
              "      <td>0.11890</td>\n",
              "      <td>NaN</td>\n",
              "    </tr>\n",
              "    <tr>\n",
              "      <th>1</th>\n",
              "      <td>842517</td>\n",
              "      <td>M</td>\n",
              "      <td>20.57</td>\n",
              "      <td>17.77</td>\n",
              "      <td>132.90</td>\n",
              "      <td>1326.0</td>\n",
              "      <td>0.08474</td>\n",
              "      <td>0.07864</td>\n",
              "      <td>0.0869</td>\n",
              "      <td>0.07017</td>\n",
              "      <td>0.1812</td>\n",
              "      <td>0.05667</td>\n",
              "      <td>0.5435</td>\n",
              "      <td>0.7339</td>\n",
              "      <td>3.398</td>\n",
              "      <td>74.08</td>\n",
              "      <td>0.005225</td>\n",
              "      <td>0.01308</td>\n",
              "      <td>0.01860</td>\n",
              "      <td>0.01340</td>\n",
              "      <td>0.01389</td>\n",
              "      <td>0.003532</td>\n",
              "      <td>24.99</td>\n",
              "      <td>23.41</td>\n",
              "      <td>158.80</td>\n",
              "      <td>1956.0</td>\n",
              "      <td>0.1238</td>\n",
              "      <td>0.1866</td>\n",
              "      <td>0.2416</td>\n",
              "      <td>0.1860</td>\n",
              "      <td>0.2750</td>\n",
              "      <td>0.08902</td>\n",
              "      <td>NaN</td>\n",
              "    </tr>\n",
              "    <tr>\n",
              "      <th>2</th>\n",
              "      <td>84300903</td>\n",
              "      <td>M</td>\n",
              "      <td>19.69</td>\n",
              "      <td>21.25</td>\n",
              "      <td>130.00</td>\n",
              "      <td>1203.0</td>\n",
              "      <td>0.10960</td>\n",
              "      <td>0.15990</td>\n",
              "      <td>0.1974</td>\n",
              "      <td>0.12790</td>\n",
              "      <td>0.2069</td>\n",
              "      <td>0.05999</td>\n",
              "      <td>0.7456</td>\n",
              "      <td>0.7869</td>\n",
              "      <td>4.585</td>\n",
              "      <td>94.03</td>\n",
              "      <td>0.006150</td>\n",
              "      <td>0.04006</td>\n",
              "      <td>0.03832</td>\n",
              "      <td>0.02058</td>\n",
              "      <td>0.02250</td>\n",
              "      <td>0.004571</td>\n",
              "      <td>23.57</td>\n",
              "      <td>25.53</td>\n",
              "      <td>152.50</td>\n",
              "      <td>1709.0</td>\n",
              "      <td>0.1444</td>\n",
              "      <td>0.4245</td>\n",
              "      <td>0.4504</td>\n",
              "      <td>0.2430</td>\n",
              "      <td>0.3613</td>\n",
              "      <td>0.08758</td>\n",
              "      <td>NaN</td>\n",
              "    </tr>\n",
              "    <tr>\n",
              "      <th>3</th>\n",
              "      <td>84348301</td>\n",
              "      <td>M</td>\n",
              "      <td>11.42</td>\n",
              "      <td>20.38</td>\n",
              "      <td>77.58</td>\n",
              "      <td>386.1</td>\n",
              "      <td>0.14250</td>\n",
              "      <td>0.28390</td>\n",
              "      <td>0.2414</td>\n",
              "      <td>0.10520</td>\n",
              "      <td>0.2597</td>\n",
              "      <td>0.09744</td>\n",
              "      <td>0.4956</td>\n",
              "      <td>1.1560</td>\n",
              "      <td>3.445</td>\n",
              "      <td>27.23</td>\n",
              "      <td>0.009110</td>\n",
              "      <td>0.07458</td>\n",
              "      <td>0.05661</td>\n",
              "      <td>0.01867</td>\n",
              "      <td>0.05963</td>\n",
              "      <td>0.009208</td>\n",
              "      <td>14.91</td>\n",
              "      <td>26.50</td>\n",
              "      <td>98.87</td>\n",
              "      <td>567.7</td>\n",
              "      <td>0.2098</td>\n",
              "      <td>0.8663</td>\n",
              "      <td>0.6869</td>\n",
              "      <td>0.2575</td>\n",
              "      <td>0.6638</td>\n",
              "      <td>0.17300</td>\n",
              "      <td>NaN</td>\n",
              "    </tr>\n",
              "    <tr>\n",
              "      <th>4</th>\n",
              "      <td>84358402</td>\n",
              "      <td>M</td>\n",
              "      <td>20.29</td>\n",
              "      <td>14.34</td>\n",
              "      <td>135.10</td>\n",
              "      <td>1297.0</td>\n",
              "      <td>0.10030</td>\n",
              "      <td>0.13280</td>\n",
              "      <td>0.1980</td>\n",
              "      <td>0.10430</td>\n",
              "      <td>0.1809</td>\n",
              "      <td>0.05883</td>\n",
              "      <td>0.7572</td>\n",
              "      <td>0.7813</td>\n",
              "      <td>5.438</td>\n",
              "      <td>94.44</td>\n",
              "      <td>0.011490</td>\n",
              "      <td>0.02461</td>\n",
              "      <td>0.05688</td>\n",
              "      <td>0.01885</td>\n",
              "      <td>0.01756</td>\n",
              "      <td>0.005115</td>\n",
              "      <td>22.54</td>\n",
              "      <td>16.67</td>\n",
              "      <td>152.20</td>\n",
              "      <td>1575.0</td>\n",
              "      <td>0.1374</td>\n",
              "      <td>0.2050</td>\n",
              "      <td>0.4000</td>\n",
              "      <td>0.1625</td>\n",
              "      <td>0.2364</td>\n",
              "      <td>0.07678</td>\n",
              "      <td>NaN</td>\n",
              "    </tr>\n",
              "  </tbody>\n",
              "</table>\n",
              "</div>"
            ],
            "text/plain": [
              "         id diagnosis  ...  fractal_dimension_worst  Unnamed: 32\n",
              "0    842302         M  ...                  0.11890          NaN\n",
              "1    842517         M  ...                  0.08902          NaN\n",
              "2  84300903         M  ...                  0.08758          NaN\n",
              "3  84348301         M  ...                  0.17300          NaN\n",
              "4  84358402         M  ...                  0.07678          NaN\n",
              "\n",
              "[5 rows x 33 columns]"
            ]
          },
          "metadata": {
            "tags": []
          },
          "execution_count": 22
        }
      ]
    },
    {
      "cell_type": "code",
      "metadata": {
        "id": "690eXulwCWYH",
        "colab_type": "code",
        "colab": {
          "base_uri": "https://localhost:8080/",
          "height": 313
        },
        "outputId": "3465f1a5-1e13-4a02-8b2a-23935d7615a5"
      },
      "source": [
        "import seaborn as sns\n",
        "ax = sns.countplot(data['diagnosis'], label= 'Count')\n",
        "B,M = data['diagnosis'].value_counts()\n",
        "print('Benign', B)\n",
        "print('Malignanat', M)"
      ],
      "execution_count": null,
      "outputs": [
        {
          "output_type": "stream",
          "text": [
            "Benign 357\n",
            "Malignanat 212\n"
          ],
          "name": "stdout"
        },
        {
          "output_type": "display_data",
          "data": {
            "image/png": "[encoded data removed]",
            "text/plain": [
              "<Figure size 432x288 with 1 Axes>"
            ]
          },
          "metadata": {
            "tags": [],
            "needs_background": "light"
          }
        }
      ]
    },
    {
      "cell_type": "code",
      "metadata": {
        "id": "ODZn13jICmtp",
        "colab_type": "code",
        "colab": {}
      },
      "source": [
        "import numpy as np\n",
        "import matplotlib.pyplot as plt\n",
        "\n",
        "del data['Unnamed: 32']"
      ],
      "execution_count": null,
      "outputs": []
    },
    {
      "cell_type": "code",
      "metadata": {
        "id": "SVUsxMrGDv78",
        "colab_type": "code",
        "colab": {}
      },
      "source": [
        "X = data.iloc[:, 2:].values\n",
        "y = data.iloc[:, 1].values\n",
        "\n",
        "# Encoding categorical data\n",
        "from sklearn.preprocessing import LabelEncoder\n",
        "labelencoder_X_1 = LabelEncoder()\n",
        "y = labelencoder_X_1.fit_transform(y)\n",
        "\n",
        "# Splitting the dataset into the Training set and Test set\n",
        "from sklearn.model_selection import train_test_split\n",
        "X_train, X_test, y_train, y_test = train_test_split(X, y, test_size = 0.2, random_state = 0)\n",
        "\n",
        "#Feature Scaling\n",
        "from sklearn.preprocessing import StandardScaler\n",
        "sc = StandardScaler()\n",
        "X_train = sc.fit_transform(X_train)\n",
        "X_test = sc.transform(X_test)"
      ],
      "execution_count": null,
      "outputs": []
    },
    {
      "cell_type": "code",
      "metadata": {
        "id": "Mib06xkPDynE",
        "colab_type": "code",
        "colab": {
          "base_uri": "https://localhost:8080/",
          "height": 235
        },
        "outputId": "69da1933-e17a-40aa-cfc5-549fda41152b"
      },
      "source": [
        "X_test"
      ],
      "execution_count": null,
      "outputs": [
        {
          "output_type": "execute_result",
          "data": {
            "text/plain": [
              "array([[-0.20175604,  0.3290786 , -0.13086754, ...,  1.3893291 ,\n",
              "         1.08203284,  1.54029664],\n",
              "       [-0.25555773,  1.46763319, -0.31780437, ..., -0.83369364,\n",
              "        -0.73131577, -0.87732522],\n",
              "       [-0.02619262, -0.8407682 , -0.09175081, ..., -0.49483785,\n",
              "        -1.22080864, -0.92115937],\n",
              "       ...,\n",
              "       [ 1.71811488,  0.09318356,  1.7286186 , ...,  1.57630515,\n",
              "         0.20317063, -0.15406178],\n",
              "       [ 1.18859296,  0.34352115,  1.19333694, ...,  0.56019755,\n",
              "         0.26991966, -0.27320074],\n",
              "       [ 0.26263752, -0.58080224,  0.28459338, ..., -0.19383705,\n",
              "        -1.15564888,  0.11231497]])"
            ]
          },
          "metadata": {
            "tags": []
          },
          "execution_count": 26
        }
      ]
    },
    {
      "cell_type": "code",
      "metadata": {
        "id": "In9NlzMwHJjR",
        "colab_type": "code",
        "colab": {
          "base_uri": "https://localhost:8080/",
          "height": 151
        },
        "outputId": "fd3c3bab-3bab-4120-fe93-3fef4c44d182"
      },
      "source": [
        "!pip install keras"
      ],
      "execution_count": null,
      "outputs": [
        {
          "output_type": "stream",
          "text": [
            "Requirement already satisfied: keras in /usr/local/lib/python3.6/dist-packages (2.3.1)\n",
            "Requirement already satisfied: h5py in /usr/local/lib/python3.6/dist-packages (from keras) (2.10.0)\n",
            "Requirement already satisfied: keras-applications>=1.0.6 in /usr/local/lib/python3.6/dist-packages (from keras) (1.0.8)\n",
            "Requirement already satisfied: numpy>=1.9.1 in /usr/local/lib/python3.6/dist-packages (from keras) (1.18.5)\n",
            "Requirement already satisfied: six>=1.9.0 in /usr/local/lib/python3.6/dist-packages (from keras) (1.12.0)\n",
            "Requirement already satisfied: pyyaml in /usr/local/lib/python3.6/dist-packages (from keras) (3.13)\n",
            "Requirement already satisfied: scipy>=0.14 in /usr/local/lib/python3.6/dist-packages (from keras) (1.4.1)\n",
            "Requirement already satisfied: keras-preprocessing>=1.0.5 in /usr/local/lib/python3.6/dist-packages (from keras) (1.1.2)\n"
          ],
          "name": "stdout"
        }
      ]
    },
    {
      "cell_type": "code",
      "metadata": {
        "id": "rYw5vZxsHToK",
        "colab_type": "code",
        "colab": {}
      },
      "source": [
        "import keras\n",
        "from keras.models import Sequential\n",
        "from keras.layers import Dense"
      ],
      "execution_count": null,
      "outputs": []
    },
    {
      "cell_type": "code",
      "metadata": {
        "id": "qIXWkY_kH4Ps",
        "colab_type": "code",
        "colab": {
          "base_uri": "https://localhost:8080/",
          "height": 205
        },
        "outputId": "3c21428f-91d0-4ccb-b1fe-a00e8ee32e86"
      },
      "source": [
        "from keras.layers import Dropout\n",
        "#adding the input and first hidden layer\n",
        "classifier = Sequential()\n",
        "classifier.add(Dense(output_dim=16, init='uniform', activation='relu',input_dim=30))\n",
        "classifier.add(Dropout(p=1.0))\n",
        "\n",
        "#adding the second hidden layer\n",
        "classifier.add(Dense(output_dim=16, init='uniform', activation='relu'))\n",
        "classifier.add(Dropout(p=1.0))\n",
        "\n",
        "#adding the output layer\n",
        "classifier.add(Dense(output_dim=1, init='uniform', activation='sigmoid'))\n"
      ],
      "execution_count": null,
      "outputs": [
        {
          "output_type": "stream",
          "text": [
            "/usr/local/lib/python3.6/dist-packages/ipykernel_launcher.py:4: UserWarning: Update your `Dense` call to the Keras 2 API: `Dense(activation=\"relu\", input_dim=30, units=16, kernel_initializer=\"uniform\")`\n",
            "  after removing the cwd from sys.path.\n",
            "/usr/local/lib/python3.6/dist-packages/ipykernel_launcher.py:5: UserWarning: Update your `Dropout` call to the Keras 2 API: `Dropout(rate=1.0)`\n",
            "  \"\"\"\n",
            "/usr/local/lib/python3.6/dist-packages/ipykernel_launcher.py:8: UserWarning: Update your `Dense` call to the Keras 2 API: `Dense(activation=\"relu\", units=16, kernel_initializer=\"uniform\")`\n",
            "  \n",
            "/usr/local/lib/python3.6/dist-packages/ipykernel_launcher.py:9: UserWarning: Update your `Dropout` call to the Keras 2 API: `Dropout(rate=1.0)`\n",
            "  if __name__ == '__main__':\n",
            "/usr/local/lib/python3.6/dist-packages/ipykernel_launcher.py:12: UserWarning: Update your `Dense` call to the Keras 2 API: `Dense(activation=\"sigmoid\", units=1, kernel_initializer=\"uniform\")`\n",
            "  if sys.path[0] == '':\n"
          ],
          "name": "stderr"
        }
      ]
    },
    {
      "cell_type": "code",
      "metadata": {
        "id": "fp9LhdpVIXm9",
        "colab_type": "code",
        "colab": {}
      },
      "source": [
        "classifier.compile(optimizer=\"Adam\", loss='binary_crossentropy', metrics=['accuracy'])"
      ],
      "execution_count": null,
      "outputs": []
    },
    {
      "cell_type": "code",
      "metadata": {
        "id": "o8XvfNcEIip-",
        "colab_type": "code",
        "colab": {
          "base_uri": "https://localhost:8080/",
          "height": 1000
        },
        "outputId": "c795da1b-ff09-4ce3-adac-3734592364e4"
      },
      "source": [
        "classifier.fit(X_train, y_train, batch_size=100, nb_epoch=150)"
      ],
      "execution_count": null,
      "outputs": [
        {
          "output_type": "stream",
          "text": [
            "/usr/local/lib/python3.6/dist-packages/ipykernel_launcher.py:1: UserWarning: The `nb_epoch` argument in `fit` has been renamed `epochs`.\n",
            "  \"\"\"Entry point for launching an IPython kernel.\n"
          ],
          "name": "stderr"
        },
        {
          "output_type": "stream",
          "text": [
            "Epoch 1/150\n",
            "455/455 [==============================] - 0s 227us/step - loss: 0.6925 - accuracy: 0.7033\n",
            "Epoch 2/150\n",
            "455/455 [==============================] - 0s 27us/step - loss: 0.6911 - accuracy: 0.6571\n",
            "Epoch 3/150\n",
            "455/455 [==============================] - 0s 20us/step - loss: 0.6891 - accuracy: 0.6637\n",
            "Epoch 4/150\n",
            "455/455 [==============================] - 0s 24us/step - loss: 0.6859 - accuracy: 0.7055\n",
            "Epoch 5/150\n",
            "455/455 [==============================] - 0s 21us/step - loss: 0.6813 - accuracy: 0.7780\n",
            "Epoch 6/150\n",
            "455/455 [==============================] - 0s 23us/step - loss: 0.6743 - accuracy: 0.8527\n",
            "Epoch 7/150\n",
            "455/455 [==============================] - 0s 21us/step - loss: 0.6644 - accuracy: 0.8923\n",
            "Epoch 8/150\n",
            "455/455 [==============================] - 0s 23us/step - loss: 0.6505 - accuracy: 0.9209\n",
            "Epoch 9/150\n",
            "455/455 [==============================] - 0s 28us/step - loss: 0.6324 - accuracy: 0.9429\n",
            "Epoch 10/150\n",
            "455/455 [==============================] - 0s 24us/step - loss: 0.6083 - accuracy: 0.9473\n",
            "Epoch 11/150\n",
            "455/455 [==============================] - 0s 24us/step - loss: 0.5790 - accuracy: 0.9451\n",
            "Epoch 12/150\n",
            "455/455 [==============================] - 0s 23us/step - loss: 0.5432 - accuracy: 0.9516\n",
            "Epoch 13/150\n",
            "455/455 [==============================] - 0s 23us/step - loss: 0.5023 - accuracy: 0.9516\n",
            "Epoch 14/150\n",
            "455/455 [==============================] - 0s 23us/step - loss: 0.4571 - accuracy: 0.9538\n",
            "Epoch 15/150\n",
            "455/455 [==============================] - 0s 22us/step - loss: 0.4098 - accuracy: 0.9560\n",
            "Epoch 16/150\n",
            "455/455 [==============================] - 0s 26us/step - loss: 0.3635 - accuracy: 0.9582\n",
            "Epoch 17/150\n",
            "455/455 [==============================] - 0s 23us/step - loss: 0.3200 - accuracy: 0.9582\n",
            "Epoch 18/150\n",
            "455/455 [==============================] - 0s 25us/step - loss: 0.2803 - accuracy: 0.9604\n",
            "Epoch 19/150\n",
            "455/455 [==============================] - 0s 25us/step - loss: 0.2472 - accuracy: 0.9648\n",
            "Epoch 20/150\n",
            "455/455 [==============================] - 0s 24us/step - loss: 0.2188 - accuracy: 0.9670\n",
            "Epoch 21/150\n",
            "455/455 [==============================] - 0s 25us/step - loss: 0.1952 - accuracy: 0.9670\n",
            "Epoch 22/150\n",
            "455/455 [==============================] - 0s 24us/step - loss: 0.1762 - accuracy: 0.9692\n",
            "Epoch 23/150\n",
            "455/455 [==============================] - 0s 24us/step - loss: 0.1599 - accuracy: 0.9714\n",
            "Epoch 24/150\n",
            "455/455 [==============================] - 0s 23us/step - loss: 0.1463 - accuracy: 0.9714\n",
            "Epoch 25/150\n",
            "455/455 [==============================] - 0s 25us/step - loss: 0.1352 - accuracy: 0.9714\n",
            "Epoch 26/150\n",
            "455/455 [==============================] - 0s 24us/step - loss: 0.1260 - accuracy: 0.9714\n",
            "Epoch 27/150\n",
            "455/455 [==============================] - 0s 22us/step - loss: 0.1179 - accuracy: 0.9736\n",
            "Epoch 28/150\n",
            "455/455 [==============================] - 0s 26us/step - loss: 0.1114 - accuracy: 0.9736\n",
            "Epoch 29/150\n",
            "455/455 [==============================] - 0s 23us/step - loss: 0.1059 - accuracy: 0.9736\n",
            "Epoch 30/150\n",
            "455/455 [==============================] - 0s 23us/step - loss: 0.1010 - accuracy: 0.9736\n",
            "Epoch 31/150\n",
            "455/455 [==============================] - 0s 26us/step - loss: 0.0967 - accuracy: 0.9758\n",
            "Epoch 32/150\n",
            "455/455 [==============================] - 0s 23us/step - loss: 0.0934 - accuracy: 0.9780\n",
            "Epoch 33/150\n",
            "455/455 [==============================] - 0s 23us/step - loss: 0.0902 - accuracy: 0.9802\n",
            "Epoch 34/150\n",
            "455/455 [==============================] - 0s 23us/step - loss: 0.0874 - accuracy: 0.9802\n",
            "Epoch 35/150\n",
            "455/455 [==============================] - 0s 25us/step - loss: 0.0851 - accuracy: 0.9802\n",
            "Epoch 36/150\n",
            "455/455 [==============================] - 0s 26us/step - loss: 0.0828 - accuracy: 0.9824\n",
            "Epoch 37/150\n",
            "455/455 [==============================] - 0s 23us/step - loss: 0.0808 - accuracy: 0.9824\n",
            "Epoch 38/150\n",
            "455/455 [==============================] - 0s 24us/step - loss: 0.0787 - accuracy: 0.9824\n",
            "Epoch 39/150\n",
            "455/455 [==============================] - 0s 30us/step - loss: 0.0768 - accuracy: 0.9824\n",
            "Epoch 40/150\n",
            "455/455 [==============================] - 0s 30us/step - loss: 0.0752 - accuracy: 0.9824\n",
            "Epoch 41/150\n",
            "455/455 [==============================] - 0s 25us/step - loss: 0.0737 - accuracy: 0.9824\n",
            "Epoch 42/150\n",
            "455/455 [==============================] - 0s 26us/step - loss: 0.0722 - accuracy: 0.9824\n",
            "Epoch 43/150\n",
            "455/455 [==============================] - 0s 33us/step - loss: 0.0709 - accuracy: 0.9846\n",
            "Epoch 44/150\n",
            "455/455 [==============================] - 0s 27us/step - loss: 0.0698 - accuracy: 0.9868\n",
            "Epoch 45/150\n",
            "455/455 [==============================] - 0s 23us/step - loss: 0.0687 - accuracy: 0.9868\n",
            "Epoch 46/150\n",
            "455/455 [==============================] - 0s 24us/step - loss: 0.0676 - accuracy: 0.9868\n",
            "Epoch 47/150\n",
            "455/455 [==============================] - 0s 25us/step - loss: 0.0666 - accuracy: 0.9868\n",
            "Epoch 48/150\n",
            "455/455 [==============================] - 0s 26us/step - loss: 0.0656 - accuracy: 0.9868\n",
            "Epoch 49/150\n",
            "455/455 [==============================] - 0s 24us/step - loss: 0.0647 - accuracy: 0.9868\n",
            "Epoch 50/150\n",
            "455/455 [==============================] - 0s 24us/step - loss: 0.0639 - accuracy: 0.9868\n",
            "Epoch 51/150\n",
            "455/455 [==============================] - 0s 26us/step - loss: 0.0631 - accuracy: 0.9868\n",
            "Epoch 52/150\n",
            "455/455 [==============================] - 0s 26us/step - loss: 0.0623 - accuracy: 0.9868\n",
            "Epoch 53/150\n",
            "455/455 [==============================] - 0s 22us/step - loss: 0.0615 - accuracy: 0.9868\n",
            "Epoch 54/150\n",
            "455/455 [==============================] - 0s 23us/step - loss: 0.0609 - accuracy: 0.9868\n",
            "Epoch 55/150\n",
            "455/455 [==============================] - 0s 23us/step - loss: 0.0602 - accuracy: 0.9868\n",
            "Epoch 56/150\n",
            "455/455 [==============================] - 0s 27us/step - loss: 0.0595 - accuracy: 0.9868\n",
            "Epoch 57/150\n",
            "455/455 [==============================] - 0s 32us/step - loss: 0.0589 - accuracy: 0.9868\n",
            "Epoch 58/150\n",
            "455/455 [==============================] - 0s 25us/step - loss: 0.0583 - accuracy: 0.9868\n",
            "Epoch 59/150\n",
            "455/455 [==============================] - 0s 27us/step - loss: 0.0578 - accuracy: 0.9868\n",
            "Epoch 60/150\n",
            "455/455 [==============================] - 0s 30us/step - loss: 0.0572 - accuracy: 0.9868\n",
            "Epoch 61/150\n",
            "455/455 [==============================] - 0s 26us/step - loss: 0.0566 - accuracy: 0.9868\n",
            "Epoch 62/150\n",
            "455/455 [==============================] - 0s 25us/step - loss: 0.0560 - accuracy: 0.9868\n",
            "Epoch 63/150\n",
            "455/455 [==============================] - 0s 25us/step - loss: 0.0555 - accuracy: 0.9868\n",
            "Epoch 64/150\n",
            "455/455 [==============================] - 0s 23us/step - loss: 0.0549 - accuracy: 0.9890\n",
            "Epoch 65/150\n",
            "455/455 [==============================] - 0s 24us/step - loss: 0.0544 - accuracy: 0.9890\n",
            "Epoch 66/150\n",
            "455/455 [==============================] - 0s 26us/step - loss: 0.0540 - accuracy: 0.9890\n",
            "Epoch 67/150\n",
            "455/455 [==============================] - 0s 25us/step - loss: 0.0533 - accuracy: 0.9890\n",
            "Epoch 68/150\n",
            "455/455 [==============================] - 0s 24us/step - loss: 0.0529 - accuracy: 0.9890\n",
            "Epoch 69/150\n",
            "455/455 [==============================] - 0s 24us/step - loss: 0.0524 - accuracy: 0.9890\n",
            "Epoch 70/150\n",
            "455/455 [==============================] - 0s 24us/step - loss: 0.0520 - accuracy: 0.9890\n",
            "Epoch 71/150\n",
            "455/455 [==============================] - 0s 24us/step - loss: 0.0515 - accuracy: 0.9890\n",
            "Epoch 72/150\n",
            "455/455 [==============================] - 0s 25us/step - loss: 0.0511 - accuracy: 0.9890\n",
            "Epoch 73/150\n",
            "455/455 [==============================] - 0s 30us/step - loss: 0.0506 - accuracy: 0.9890\n",
            "Epoch 74/150\n",
            "455/455 [==============================] - 0s 38us/step - loss: 0.0503 - accuracy: 0.9890\n",
            "Epoch 75/150\n",
            "455/455 [==============================] - 0s 27us/step - loss: 0.0499 - accuracy: 0.9890\n",
            "Epoch 76/150\n",
            "455/455 [==============================] - 0s 28us/step - loss: 0.0494 - accuracy: 0.9890\n",
            "Epoch 77/150\n",
            "455/455 [==============================] - 0s 31us/step - loss: 0.0492 - accuracy: 0.9890\n",
            "Epoch 78/150\n",
            "455/455 [==============================] - 0s 27us/step - loss: 0.0487 - accuracy: 0.9890\n",
            "Epoch 79/150\n",
            "455/455 [==============================] - 0s 37us/step - loss: 0.0484 - accuracy: 0.9890\n",
            "Epoch 80/150\n",
            "455/455 [==============================] - 0s 25us/step - loss: 0.0480 - accuracy: 0.9890\n",
            "Epoch 81/150\n",
            "455/455 [==============================] - 0s 24us/step - loss: 0.0477 - accuracy: 0.9890\n",
            "Epoch 82/150\n",
            "455/455 [==============================] - 0s 27us/step - loss: 0.0473 - accuracy: 0.9890\n",
            "Epoch 83/150\n",
            "455/455 [==============================] - 0s 23us/step - loss: 0.0469 - accuracy: 0.9890\n",
            "Epoch 84/150\n",
            "455/455 [==============================] - 0s 24us/step - loss: 0.0466 - accuracy: 0.9890\n",
            "Epoch 85/150\n",
            "455/455 [==============================] - 0s 22us/step - loss: 0.0463 - accuracy: 0.9890\n",
            "Epoch 86/150\n",
            "455/455 [==============================] - 0s 23us/step - loss: 0.0460 - accuracy: 0.9890\n",
            "Epoch 87/150\n",
            "455/455 [==============================] - 0s 26us/step - loss: 0.0457 - accuracy: 0.9890\n",
            "Epoch 88/150\n",
            "455/455 [==============================] - 0s 27us/step - loss: 0.0454 - accuracy: 0.9890\n",
            "Epoch 89/150\n",
            "455/455 [==============================] - 0s 29us/step - loss: 0.0451 - accuracy: 0.9912\n",
            "Epoch 90/150\n",
            "455/455 [==============================] - 0s 30us/step - loss: 0.0448 - accuracy: 0.9912\n",
            "Epoch 91/150\n",
            "455/455 [==============================] - 0s 29us/step - loss: 0.0445 - accuracy: 0.9912\n",
            "Epoch 92/150\n",
            "455/455 [==============================] - 0s 30us/step - loss: 0.0442 - accuracy: 0.9912\n",
            "Epoch 93/150\n",
            "455/455 [==============================] - 0s 29us/step - loss: 0.0439 - accuracy: 0.9912\n",
            "Epoch 94/150\n",
            "455/455 [==============================] - 0s 24us/step - loss: 0.0437 - accuracy: 0.9912\n",
            "Epoch 95/150\n",
            "455/455 [==============================] - 0s 27us/step - loss: 0.0434 - accuracy: 0.9912\n",
            "Epoch 96/150\n",
            "455/455 [==============================] - 0s 29us/step - loss: 0.0431 - accuracy: 0.9912\n",
            "Epoch 97/150\n",
            "455/455 [==============================] - 0s 33us/step - loss: 0.0429 - accuracy: 0.9912\n",
            "Epoch 98/150\n",
            "455/455 [==============================] - 0s 26us/step - loss: 0.0426 - accuracy: 0.9912\n",
            "Epoch 99/150\n",
            "455/455 [==============================] - 0s 23us/step - loss: 0.0424 - accuracy: 0.9912\n",
            "Epoch 100/150\n",
            "455/455 [==============================] - 0s 29us/step - loss: 0.0422 - accuracy: 0.9912\n",
            "Epoch 101/150\n",
            "455/455 [==============================] - 0s 26us/step - loss: 0.0419 - accuracy: 0.9912\n",
            "Epoch 102/150\n",
            "455/455 [==============================] - 0s 27us/step - loss: 0.0416 - accuracy: 0.9912\n",
            "Epoch 103/150\n",
            "455/455 [==============================] - 0s 28us/step - loss: 0.0414 - accuracy: 0.9912\n",
            "Epoch 104/150\n",
            "455/455 [==============================] - 0s 27us/step - loss: 0.0411 - accuracy: 0.9912\n",
            "Epoch 105/150\n",
            "455/455 [==============================] - 0s 27us/step - loss: 0.0408 - accuracy: 0.9912\n",
            "Epoch 106/150\n",
            "455/455 [==============================] - 0s 26us/step - loss: 0.0406 - accuracy: 0.9912\n",
            "Epoch 107/150\n",
            "455/455 [==============================] - 0s 24us/step - loss: 0.0404 - accuracy: 0.9912\n",
            "Epoch 108/150\n",
            "455/455 [==============================] - 0s 21us/step - loss: 0.0401 - accuracy: 0.9912\n",
            "Epoch 109/150\n",
            "455/455 [==============================] - 0s 24us/step - loss: 0.0399 - accuracy: 0.9912\n",
            "Epoch 110/150\n",
            "455/455 [==============================] - 0s 24us/step - loss: 0.0397 - accuracy: 0.9912\n",
            "Epoch 111/150\n",
            "455/455 [==============================] - 0s 23us/step - loss: 0.0395 - accuracy: 0.9912\n",
            "Epoch 112/150\n",
            "455/455 [==============================] - 0s 31us/step - loss: 0.0392 - accuracy: 0.9912\n",
            "Epoch 113/150\n",
            "455/455 [==============================] - 0s 26us/step - loss: 0.0390 - accuracy: 0.9912\n",
            "Epoch 114/150\n",
            "455/455 [==============================] - 0s 29us/step - loss: 0.0387 - accuracy: 0.9912\n",
            "Epoch 115/150\n",
            "455/455 [==============================] - 0s 24us/step - loss: 0.0385 - accuracy: 0.9912\n",
            "Epoch 116/150\n",
            "455/455 [==============================] - 0s 36us/step - loss: 0.0382 - accuracy: 0.9912\n",
            "Epoch 117/150\n",
            "455/455 [==============================] - 0s 26us/step - loss: 0.0381 - accuracy: 0.9912\n",
            "Epoch 118/150\n",
            "455/455 [==============================] - 0s 24us/step - loss: 0.0379 - accuracy: 0.9912\n",
            "Epoch 119/150\n",
            "455/455 [==============================] - 0s 24us/step - loss: 0.0376 - accuracy: 0.9912\n",
            "Epoch 120/150\n",
            "455/455 [==============================] - 0s 27us/step - loss: 0.0374 - accuracy: 0.9912\n",
            "Epoch 121/150\n",
            "455/455 [==============================] - 0s 27us/step - loss: 0.0372 - accuracy: 0.9912\n",
            "Epoch 122/150\n",
            "455/455 [==============================] - 0s 25us/step - loss: 0.0370 - accuracy: 0.9912\n",
            "Epoch 123/150\n",
            "455/455 [==============================] - 0s 24us/step - loss: 0.0368 - accuracy: 0.9912\n",
            "Epoch 124/150\n",
            "455/455 [==============================] - 0s 24us/step - loss: 0.0365 - accuracy: 0.9912\n",
            "Epoch 125/150\n",
            "455/455 [==============================] - 0s 27us/step - loss: 0.0363 - accuracy: 0.9912\n",
            "Epoch 126/150\n",
            "455/455 [==============================] - 0s 45us/step - loss: 0.0360 - accuracy: 0.9912\n",
            "Epoch 127/150\n",
            "455/455 [==============================] - 0s 28us/step - loss: 0.0358 - accuracy: 0.9912\n",
            "Epoch 128/150\n",
            "455/455 [==============================] - 0s 26us/step - loss: 0.0355 - accuracy: 0.9912\n",
            "Epoch 129/150\n",
            "455/455 [==============================] - 0s 28us/step - loss: 0.0354 - accuracy: 0.9912\n",
            "Epoch 130/150\n",
            "455/455 [==============================] - 0s 32us/step - loss: 0.0352 - accuracy: 0.9912\n",
            "Epoch 131/150\n",
            "455/455 [==============================] - 0s 24us/step - loss: 0.0349 - accuracy: 0.9912\n",
            "Epoch 132/150\n",
            "455/455 [==============================] - 0s 25us/step - loss: 0.0347 - accuracy: 0.9912\n",
            "Epoch 133/150\n",
            "455/455 [==============================] - 0s 21us/step - loss: 0.0345 - accuracy: 0.9912\n",
            "Epoch 134/150\n",
            "455/455 [==============================] - 0s 27us/step - loss: 0.0343 - accuracy: 0.9912\n",
            "Epoch 135/150\n",
            "455/455 [==============================] - 0s 27us/step - loss: 0.0341 - accuracy: 0.9912\n",
            "Epoch 136/150\n",
            "455/455 [==============================] - 0s 23us/step - loss: 0.0339 - accuracy: 0.9912\n",
            "Epoch 137/150\n",
            "455/455 [==============================] - 0s 25us/step - loss: 0.0337 - accuracy: 0.9912\n",
            "Epoch 138/150\n",
            "455/455 [==============================] - 0s 28us/step - loss: 0.0335 - accuracy: 0.9912\n",
            "Epoch 139/150\n",
            "455/455 [==============================] - 0s 24us/step - loss: 0.0332 - accuracy: 0.9912\n",
            "Epoch 140/150\n",
            "455/455 [==============================] - 0s 25us/step - loss: 0.0331 - accuracy: 0.9912\n",
            "Epoch 141/150\n",
            "455/455 [==============================] - 0s 24us/step - loss: 0.0328 - accuracy: 0.9912\n",
            "Epoch 142/150\n",
            "455/455 [==============================] - 0s 25us/step - loss: 0.0327 - accuracy: 0.9912\n",
            "Epoch 143/150\n",
            "455/455 [==============================] - 0s 29us/step - loss: 0.0324 - accuracy: 0.9912\n",
            "Epoch 144/150\n",
            "455/455 [==============================] - 0s 26us/step - loss: 0.0323 - accuracy: 0.9912\n",
            "Epoch 145/150\n",
            "455/455 [==============================] - 0s 28us/step - loss: 0.0321 - accuracy: 0.9912\n",
            "Epoch 146/150\n",
            "455/455 [==============================] - 0s 24us/step - loss: 0.0319 - accuracy: 0.9912\n",
            "Epoch 147/150\n",
            "455/455 [==============================] - 0s 27us/step - loss: 0.0317 - accuracy: 0.9912\n",
            "Epoch 148/150\n",
            "455/455 [==============================] - 0s 26us/step - loss: 0.0316 - accuracy: 0.9912\n",
            "Epoch 149/150\n",
            "455/455 [==============================] - 0s 26us/step - loss: 0.0314 - accuracy: 0.9912\n",
            "Epoch 150/150\n",
            "455/455 [==============================] - 0s 29us/step - loss: 0.0313 - accuracy: 0.9912\n"
          ],
          "name": "stdout"
        },
        {
          "output_type": "execute_result",
          "data": {
            "text/plain": [
              "<keras.callbacks.callbacks.History at 0x7f8dd09dc0b8>"
            ]
          },
          "metadata": {
            "tags": []
          },
          "execution_count": 31
        }
      ]
    },
    {
      "cell_type": "code",
      "metadata": {
        "id": "5HDALhLjIlK7",
        "colab_type": "code",
        "colab": {}
      },
      "source": [
        "# Predicting the Test set results\n",
        "y_pred = classifier.predict(X_test)\n",
        "y_pred = (y_pred > 0.5)"
      ],
      "execution_count": null,
      "outputs": []
    },
    {
      "cell_type": "code",
      "metadata": {
        "id": "oIykyABhIp3G",
        "colab_type": "code",
        "colab": {}
      },
      "source": [
        "# Making the Confusion Matrix\n",
        "from sklearn.metrics import confusion_matrix\n",
        "cm = confusion_matrix(y_test, y_pred)"
      ],
      "execution_count": null,
      "outputs": []
    },
    {
      "cell_type": "code",
      "metadata": {
        "id": "x2JDmLhqIuBI",
        "colab_type": "code",
        "colab": {
          "base_uri": "https://localhost:8080/",
          "height": 265
        },
        "outputId": "1921611e-1da5-423e-900d-f2a71387e47b"
      },
      "source": [
        "sns.heatmap(cm,annot=True)\n",
        "plt.savefig('h.png')"
      ],
      "execution_count": null,
      "outputs": [
        {
          "output_type": "display_data",
          "data": {
            "image/png": "[encoded data removed]",
            "text/plain": [
              "<Figure size 432x288 with 2 Axes>"
            ]
          },
          "metadata": {
            "tags": [],
            "needs_background": "light"
          }
        }
      ]
    },
    {
      "cell_type": "code",
      "metadata": {
        "id": "ctXSuiQyIvw5",
        "colab_type": "code",
        "colab": {}
      },
      "source": [
        ""
      ],
      "execution_count": null,
      "outputs": []
    }
  ]
}